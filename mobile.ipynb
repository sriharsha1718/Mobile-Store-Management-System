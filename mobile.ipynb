{
  "nbformat": 4,
  "nbformat_minor": 0,
  "metadata": {
    "colab": {
      "provenance": [],
      "authorship_tag": "ABX9TyM+r63aoL0+GOV36X/2FtCf",
      "include_colab_link": true
    },
    "kernelspec": {
      "name": "python3",
      "display_name": "Python 3"
    },
    "language_info": {
      "name": "python"
    }
  },
  "cells": [
    {
      "cell_type": "markdown",
      "metadata": {
        "id": "view-in-github",
        "colab_type": "text"
      },
      "source": [
        "<a href=\"https://colab.research.google.com/github/sriharsha1718/Mobile-Store-Management-System-Using-Python/blob/main/mobile.ipynb\" target=\"_parent\"><img src=\"https://colab.research.google.com/assets/colab-badge.svg\" alt=\"Open In Colab\"/></a>"
      ]
    },
    {
      "cell_type": "code",
      "execution_count": null,
      "metadata": {
        "id": "-WNbRPK9ZLaC"
      },
      "outputs": [],
      "source": [
        "#Python program for phone store management\n",
        "d={} #dictionary to store mobile phones and their details\n",
        "class Phone:\n",
        "    def __init__(self,n,p,c,w):\n",
        "        self.pname=n\n",
        "        self.modelno=p\n",
        "        self.pcost=c\n",
        "        self.pwarant=w\n",
        "        self.add()\n",
        "    def show(self):\n",
        "        l=d.keys()\n",
        "        print('List of all mobiles in the store and their details')\n",
        "        for i in l:\n",
        "            print('{}-->{}'.format(i,d[i]))\n",
        "    def add(self):\n",
        "        l=[]\n",
        "        l.append(self.modelno)\n",
        "        l.append(self.pcost)\n",
        "        l.append(self.pwarant)\n",
        "        d[self.pname]=l\n",
        "        print(d)\n",
        "    def check(self):\n",
        "        l=d.keys()\n",
        "        n=input('Enter the name of mobile: ')\n",
        "        if n in l:\n",
        "            print('Mobile exists in our store')\n",
        "            print('Mobile name: %s' %n)\n",
        "            print('Modelno: {}\\nCost of Mobile: {}\\nWarranty: {}'.format(d[n][0],d[n][1],d[n][2]))\n",
        "        else:\n",
        "            print('Mobile does not exist!')\n",
        "    def display(self):\n",
        "        n=input('Enter the mobile name you wish to purchase: ')\n",
        "        print('\\n**********Invoice**********')\n",
        "        print('Mobile name: %s'%n)\n",
        "        print('Model number: %s' %d[n][0])\n",
        "        print('Warranty time: %d' %d[n][2])\n",
        "        print('The cost of Mobile: %f' %d[n][1])\n",
        "        print('GST: %.2f' %50)\n",
        "        g=d[n][1]+50\n",
        "        print('Your total bill: %f' %g)\n",
        "        print('Thank you for purchasing the mobile!!! visit again')\n",
        "        \n",
        "print('Welcome to TSH Mobile Store')\n",
        "print('1. List all the phones in the shop along with all the details')\n",
        "print('2. Add new phones to the list on arrival')\n",
        "print('3. Check the details of a particular model')\n",
        "print('4. Purchase the phone and generate invoice')\n",
        "print('0. Exit')\n",
        "\n",
        "while 1:\n",
        "    o=int(input('Enter your option: '))\n",
        "    if o==1:\n",
        "        s.show()\n",
        "    elif o==2:\n",
        "        n=input('Enter the phone name: ')\n",
        "        p=input('Enter Model no: ')\n",
        "        c=float(input('Enter the cost of mobile: '))\n",
        "        w=int(input('Enter the warranty in years: '))\n",
        "        s=Phone(n,p,c,w)\n",
        "    elif o==3:\n",
        "        s.check()\n",
        "    elif o==4:\n",
        "        s.display()\n",
        "    elif o==0:\n",
        "        print('Exited successfully!!!')\n",
        "        break\n",
        "    else:\n",
        "        print('Invalid option!!!')\n"
      ]
    }
  ]
}